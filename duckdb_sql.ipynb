{
 "cells": [
  {
   "cell_type": "code",
   "execution_count": 1,
   "id": "3f639fac",
   "metadata": {},
   "outputs": [],
   "source": [
    "# !pip install duckdb\n",
    "import duckdb as db"
   ]
  },
  {
   "cell_type": "code",
   "execution_count": 2,
   "id": "33272e0f",
   "metadata": {},
   "outputs": [
    {
     "data": {
      "text/plain": [
       "┌───────┬──────────────┬────────────────────────────────┐\n",
       "│  id   │ geografia_id │           descricao            │\n",
       "│ int64 │    int64     │            varchar             │\n",
       "├───────┼──────────────┼────────────────────────────────┤\n",
       "│     1 │           22 │ Nolan Inc                      │\n",
       "│     2 │            3 │ Kuhic and Sons                 │\n",
       "│     3 │            6 │ Gottlieb, Ebert and Williamson │\n",
       "│     4 │           13 │ Grady-Pacocha                  │\n",
       "│     5 │           15 │ O'Conner, Hegmann and Waters   │\n",
       "│     6 │           10 │ Weber Inc                      │\n",
       "│     7 │           17 │ Schmidt-Mayert                 │\n",
       "│     8 │           13 │ Kris-Metz                      │\n",
       "│     9 │           20 │ Halvorson, Kuvalis and Mraz    │\n",
       "│    10 │           10 │ Lubowitz, Wiegand and Denesik  │\n",
       "│     · │            · │       ·                        │\n",
       "│     · │            · │       ·                        │\n",
       "│     · │            · │       ·                        │\n",
       "│   692 │            8 │ Gislason-Feil                  │\n",
       "│   693 │           16 │ Brakus-Torp                    │\n",
       "│   694 │           16 │ Padberg, Kautzer and Reinger   │\n",
       "│   695 │           15 │ Dooley, Olson and Jacobs       │\n",
       "│   696 │            8 │ Jerde, Schulist and Schultz    │\n",
       "│   697 │           23 │ Bayer-Ritchie                  │\n",
       "│   698 │            9 │ Bayer, Carroll and McKenzie    │\n",
       "│   699 │           17 │ Gislason Inc                   │\n",
       "│   700 │            1 │ Orn Inc                        │\n",
       "│   701 │           20 │ Runte-Ziemann                  │\n",
       "├───────┴──────────────┴────────────────────────────────┤\n",
       "│ 701 rows (20 shown)                         3 columns │\n",
       "└───────────────────────────────────────────────────────┘"
      ]
     },
     "execution_count": 2,
     "metadata": {},
     "output_type": "execute_result"
    }
   ],
   "source": [
    "db_cliente = db.read_csv('Cliente.csv', sep=';')\n",
    "db.sql(\"\"\"\n",
    "    select * from db_cliente\n",
    "    \"\"\")"
   ]
  },
  {
   "cell_type": "code",
   "execution_count": 3,
   "id": "85691bce",
   "metadata": {},
   "outputs": [
    {
     "data": {
      "text/plain": [
       "┌───────┬───────────┬────────────┬─────────────────┬────────────────┬─────────────┐\n",
       "│  id   │ vendas_id │ produto_id │ item_quantidade │ valor_unitario │ valor_bruto │\n",
       "│ int64 │   int64   │   int64    │      int64      │    varchar     │   varchar   │\n",
       "├───────┼───────────┼────────────┼─────────────────┼────────────────┼─────────────┤\n",
       "│   146 │        16 │         44 │               1 │ 120,96         │ 120,96      │\n",
       "│   152 │        14 │         44 │               1 │ 127,68         │ 127,68      │\n",
       "│   213 │        20 │         44 │               1 │ 137,76         │ 137,76      │\n",
       "│   260 │        24 │         44 │               1 │ 118,72         │ 118,72      │\n",
       "│   287 │        31 │         44 │               1 │ 127,68         │ 127,68      │\n",
       "│   369 │        37 │         44 │               1 │ 140            │ 140         │\n",
       "│   383 │        41 │         44 │               1 │ 135,52         │ 135,52      │\n",
       "│   460 │        54 │         44 │               1 │ 131,04         │ 131,04      │\n",
       "│   507 │        56 │         44 │               1 │ 124,32         │ 124,32      │\n",
       "│   517 │        55 │         44 │               1 │ 115,36         │ 115,36      │\n",
       "│    ·  │         · │          · │               · │   ·            │   ·         │\n",
       "│    ·  │         · │          · │               · │   ·            │   ·         │\n",
       "│    ·  │         · │          · │               · │   ·            │   ·         │\n",
       "│ 47150 │       281 │         49 │               1 │ 179,01         │ 179,01      │\n",
       "│ 47245 │       208 │         49 │               1 │ 157,59         │ 157,59      │\n",
       "│ 47270 │       211 │         49 │               1 │ 175,95         │ 175,95      │\n",
       "│ 47583 │       269 │         49 │               1 │ 189,72         │ 189,72      │\n",
       "│ 47661 │       290 │         49 │               1 │ 182,07         │ 182,07      │\n",
       "│ 47757 │       307 │         49 │               1 │ 154,53         │ 154,53      │\n",
       "│ 47788 │       310 │         49 │               1 │ 169,83         │ 169,83      │\n",
       "│ 47839 │       320 │         49 │               1 │ 174,42         │ 174,42      │\n",
       "│ 47923 │       333 │         49 │               1 │ 180,54         │ 180,54      │\n",
       "│ 47963 │       338 │         49 │               1 │ 182,07         │ 182,07      │\n",
       "├───────┴───────────┴────────────┴─────────────────┴────────────────┴─────────────┤\n",
       "│ ? rows (>9999 rows, 20 shown)                                         6 columns │\n",
       "└─────────────────────────────────────────────────────────────────────────────────┘"
      ]
     },
     "execution_count": 3,
     "metadata": {},
     "output_type": "execute_result"
    }
   ],
   "source": [
    "db_itens_venda = db.read_csv('ItensVendas.csv', sep=';')\n",
    "db.sql(\"\"\"\n",
    "    select * from db_itens_venda\n",
    "    \"\"\")"
   ]
  },
  {
   "cell_type": "code",
   "execution_count": 6,
   "id": "d2eb17bb",
   "metadata": {},
   "outputs": [
    {
     "data": {
      "text/plain": [
       "┌───────┬──────────────┬────────────────┬─────────┬───────────────┐\n",
       "│  id   │ categoria_id │   descricao    │ tamanho │ custoUnitario │\n",
       "│ int64 │    int64     │    varchar     │ varchar │    varchar    │\n",
       "├───────┼──────────────┼────────────────┼─────────┼───────────────┤\n",
       "│     1 │            1 │ Casual Day     │ M       │ 54,00         │\n",
       "│     2 │            1 │ Casual Day     │ P       │ 54,00         │\n",
       "│     3 │            1 │ Casual Day     │ G       │ 54,00         │\n",
       "│     4 │            1 │ Psyco Universe │ GG      │ 36,00         │\n",
       "│     5 │            1 │ Psyco Universe │ P       │ 36,00         │\n",
       "│     6 │            1 │ Psyco Universe │ G       │ 36,00         │\n",
       "│     7 │            1 │ Psyco Universe │ M       │ 36,00         │\n",
       "│     8 │            1 │ Psyco Classic  │ M       │ 75,00         │\n",
       "│     9 │            1 │ Psyco Classic  │ G       │ 75,00         │\n",
       "│    10 │            1 │ Psyco Classic  │ P       │ 75,00         │\n",
       "│     · │            · │    ·           │ ·       │   ·           │\n",
       "│     · │            · │    ·           │ ·       │   ·           │\n",
       "│     · │            · │    ·           │ ·       │   ·           │\n",
       "│    84 │            2 │ Oriente        │ GG      │ 60,00         │\n",
       "│    85 │            2 │ Oriente        │ G       │ 60,00         │\n",
       "│    86 │            2 │ Beach Flash    │ P       │ 48,00         │\n",
       "│    87 │            2 │ Beach Flash    │ G       │ 48,00         │\n",
       "│    88 │            2 │ Beach Flash    │ GG      │ 48,00         │\n",
       "│    89 │            2 │ Beach Flash    │ M       │ 48,00         │\n",
       "│    90 │            4 │ Incomparaveis  │ P       │ 33,00         │\n",
       "│    91 │            4 │ Incomparaveis  │ M       │ 33,00         │\n",
       "│    92 │            4 │ Incomparaveis  │ G       │ 33,00         │\n",
       "│    93 │            4 │ Incomparaveis  │ GG      │ 33,00         │\n",
       "├───────┴──────────────┴────────────────┴─────────┴───────────────┤\n",
       "│ 93 rows (20 shown)                                    5 columns │\n",
       "└─────────────────────────────────────────────────────────────────┘"
      ]
     },
     "execution_count": 6,
     "metadata": {},
     "output_type": "execute_result"
    }
   ],
   "source": [
    "db_produto = db.read_csv('Produto.csv', encoding='utf-8', delimiter='\\t')\n",
    "db.sql(\"\"\"\n",
    "    select * from db_produto\n",
    "    \"\"\")"
   ]
  },
  {
   "cell_type": "code",
   "execution_count": 9,
   "id": "b076cb69",
   "metadata": {},
   "outputs": [
    {
     "data": {
      "text/plain": [
       "┌───────┬─────────────────────────┬──────────┬─────────────┬─────────────┬─────────────┬────────────┐\n",
       "│  id   │          data           │   nfe    │ nf_desconto │ valor_bruto │ valor_venda │ cliente_id │\n",
       "│ int64 │         varchar         │ varchar  │   varchar   │   varchar   │   varchar   │   int64    │\n",
       "├───────┼─────────────────────────┼──────────┼─────────────┼─────────────┼─────────────┼────────────┤\n",
       "│    11 │ 2021-02-18 00:00:00,000 │ SO43669  │ 0           │ 243         │ 243         │        318 │\n",
       "│    78 │ 2021-03-02 00:00:00,000 │ SO43882  │ 0           │ 261         │ 261         │         83 │\n",
       "│    81 │ 2021-03-03 00:00:00,000 │ SO43887  │ 0           │ 225         │ 225         │        566 │\n",
       "│   100 │ 2021-03-06 00:00:00,000 │ SO43903  │ 0           │ 125,44      │ 125,44      │        177 │\n",
       "│   116 │ 2021-03-09 00:00:00,000 │ SO43915  │ 0           │ 91,56       │ 91,56       │        271 │\n",
       "│   120 │ 2021-03-11 00:00:00,000 │ SO44082  │ 0           │ 120,64      │ 120,64      │         77 │\n",
       "│   124 │ 2021-03-11 00:00:00,000 │ SO44084  │ 0           │ 277,03      │ 277,03      │        240 │\n",
       "│   125 │ 2021-03-11 00:00:00,000 │ SO44080  │ 0           │ 156,4       │ 156,4       │        629 │\n",
       "│   144 │ 2021-03-15 00:00:00,000 │ SO44106  │ 0           │ 110,24      │ 110,24      │        365 │\n",
       "│   158 │ 2021-03-18 00:00:00,000 │ SO44118  │ 0           │ 536,29      │ 536,29      │        418 │\n",
       "│    ·  │            ·            │    ·     │ ·           │   ·         │   ·         │          · │\n",
       "│    ·  │            ·            │    ·     │ ·           │   ·         │   ·         │          · │\n",
       "│    ·  │            ·            │    ·     │ ·           │   ·         │   ·         │          · │\n",
       "│  3422 │ 2023-10-20 00:00:00,000 │ SO117678 │ 82,5        │ 1386,26     │ 1303,76     │         96 │\n",
       "│  3423 │ 2023-10-22 00:00:00,000 │ SO117685 │ 391,7       │ 6338,6      │ 5946,9      │        127 │\n",
       "│  3424 │ 2023-10-20 00:00:00,000 │ SO117676 │ 146,9       │ 3188,04     │ 3041,14     │        380 │\n",
       "│  3425 │ 2023-10-20 00:00:00,000 │ SO117677 │ 410,8       │ 9494,48     │ 9083,68     │        224 │\n",
       "│  3426 │ 2023-10-22 00:00:00,000 │ SO117683 │ 332,85      │ 5762,85     │ 5430        │        299 │\n",
       "│  3427 │ 2023-10-21 00:00:00,000 │ SO117682 │ 43,25       │ 294,39      │ 251,14      │        576 │\n",
       "│  3428 │ 2023-10-21 00:00:00,000 │ SO117680 │ 247,7       │ 4936,63     │ 4688,93     │        322 │\n",
       "│  3429 │ 2023-10-21 00:00:00,000 │ SO117681 │ 327,2       │ 8621,46     │ 8294,26     │        228 │\n",
       "│  3430 │ 2023-10-21 00:00:00,000 │ SO117679 │ 5,3         │ 639,46      │ 634,16      │          5 │\n",
       "│  3431 │ 2023-10-22 00:00:00,000 │ SO117684 │ 63,6        │ 1144,53     │ 1080,93     │        431 │\n",
       "├───────┴─────────────────────────┴──────────┴─────────────┴─────────────┴─────────────┴────────────┤\n",
       "│ 3431 rows (20 shown)                                                                    7 columns │\n",
       "└───────────────────────────────────────────────────────────────────────────────────────────────────┘"
      ]
     },
     "execution_count": 9,
     "metadata": {},
     "output_type": "execute_result"
    }
   ],
   "source": [
    "db_venda = db.read_csv('Vendas.csv', sep=';')\n",
    "db.sql(\"\"\"\n",
    "    select * from db_venda\n",
    "    \"\"\")"
   ]
  },
  {
   "cell_type": "code",
   "execution_count": 16,
   "id": "bf904de5",
   "metadata": {
    "scrolled": false
   },
   "outputs": [
    {
     "data": {
      "text/plain": [
       "┌────────────┬────────────────────────────────┬────────────────┬───────┬─────────────┐\n",
       "│ data_venda │            cliente             │   descricao    │  qtd  │ valor_venda │\n",
       "│    date    │            varchar             │    varchar     │ int64 │   varchar   │\n",
       "├────────────┼────────────────────────────────┼────────────────┼───────┼─────────────┤\n",
       "│ 2023-06-27 │ Monahan-Bins                   │ Casual Day     │     4 │ 2917,75     │\n",
       "│ 2023-09-25 │ Schneider and Sons             │ Casual Day     │     4 │ 10326,55    │\n",
       "│ 2023-03-22 │ Hintz LLC                      │ Casual Day     │     5 │ 9348,78     │\n",
       "│ 2022-10-14 │ Hegmann Inc                    │ Psyco Universe │     4 │ 9691,94     │\n",
       "│ 2023-08-13 │ Stokes, Auer and Orn           │ Psyco Universe │     5 │ 6145,88     │\n",
       "│ 2023-08-16 │ Dach LLC                       │ Psyco Universe │     3 │ 5486,7      │\n",
       "│ 2023-10-14 │ Koss-Rowe                      │ Psyco Classic  │     4 │ 9837,34     │\n",
       "│ 2021-06-21 │ Feest-Torp                     │ Psyco Classic  │     4 │ 3154,86     │\n",
       "│ 2023-09-21 │ Terry, Schmeler and Konopelski │ Marine Slim    │     3 │ 7973,19     │\n",
       "│ 2023-07-29 │ Kautzer-Streich                │ Marine Slim    │     3 │ 7279,87     │\n",
       "│     ·      │       ·                        │      ·         │     · │    ·        │\n",
       "│     ·      │       ·                        │      ·         │     · │    ·        │\n",
       "│     ·      │       ·                        │      ·         │     · │    ·        │\n",
       "│ 2023-09-12 │ Keeling Group                  │ Psyco Universe │     2 │ 2726,67     │\n",
       "│ 2023-04-12 │ Batz, MacGyver and Bradtke     │ Psyco Universe │     1 │ 9648        │\n",
       "│ 2023-05-10 │ Lynch LLC                      │ Psyco Universe │     1 │ 4591,78     │\n",
       "│ 2023-03-17 │ Klein, Nikolaus and Lebsack    │ Psyco Classic  │     1 │ 7939,26     │\n",
       "│ 2022-12-21 │ Bogan Inc                      │ Psyco Classic  │     1 │ 6526,8      │\n",
       "│ 2023-05-28 │ Kovacek, Weissnat and Goodwin  │ Marine Slim    │     1 │ 8506,58     │\n",
       "│ 2023-03-07 │ Legros LLC                     │ Marine Slim    │     1 │ 4708,4      │\n",
       "│ 2023-04-12 │ Batz, MacGyver and Bradtke     │ Marine Slim    │     1 │ 9648        │\n",
       "│ 2023-05-08 │ Oberbrunner Group              │ Psyco Crew     │     1 │ 2732,94     │\n",
       "│ 2023-04-24 │ Beier, Wunsch and Harvey       │ Psyco Crew     │     1 │ 2749,56     │\n",
       "├────────────┴────────────────────────────────┴────────────────┴───────┴─────────────┤\n",
       "│ ? rows (>9999 rows, 20 shown)                                            5 columns │\n",
       "└────────────────────────────────────────────────────────────────────────────────────┘"
      ]
     },
     "execution_count": 16,
     "metadata": {},
     "output_type": "execute_result"
    }
   ],
   "source": [
    "db.sql(\"\"\"\n",
    "    select CAST(v.data AS DATE)as data_venda, c.descricao as cliente, p.descricao, i.item_quantidade as qtd, v.valor_venda\n",
    "    from db_venda v\n",
    "    join db_cliente c ON (v.cliente_id = c.id)\n",
    "    join db_itens_venda i ON (v.id = i.vendas_id)\n",
    "    join db_produto p ON (i.produto_id = p.id)\n",
    "    \"\"\")"
   ]
  },
  {
   "cell_type": "code",
   "execution_count": null,
   "id": "7f2ffa24",
   "metadata": {},
   "outputs": [],
   "source": []
  }
 ],
 "metadata": {
  "kernelspec": {
   "display_name": "Python 3 (ipykernel)",
   "language": "python",
   "name": "python3"
  },
  "language_info": {
   "codemirror_mode": {
    "name": "ipython",
    "version": 3
   },
   "file_extension": ".py",
   "mimetype": "text/x-python",
   "name": "python",
   "nbconvert_exporter": "python",
   "pygments_lexer": "ipython3",
   "version": "3.11.5"
  }
 },
 "nbformat": 4,
 "nbformat_minor": 5
}
